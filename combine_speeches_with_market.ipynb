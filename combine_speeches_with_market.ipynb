{
 "cells": [
  {
   "cell_type": "markdown",
   "id": "3ae8a092",
   "metadata": {},
   "source": [
    "Analysis of speeches"
   ]
  },
  {
   "cell_type": "code",
   "execution_count": 1,
   "id": "2b1d1876",
   "metadata": {},
   "outputs": [],
   "source": [
    "import pandas as pd\n",
    "import numpy as np\n",
    "import matplotlib.pyplot as plt\n",
    "import seaborn as sns"
   ]
  },
  {
   "cell_type": "code",
   "execution_count": 2,
   "id": "8c29b0cd",
   "metadata": {},
   "outputs": [],
   "source": [
    "df_speeches = pd.read_csv('fed_speeches_1996_2022.csv')"
   ]
  },
  {
   "cell_type": "code",
   "execution_count": 3,
   "id": "01d28fca",
   "metadata": {},
   "outputs": [],
   "source": [
    "df_spx = pd.read_csv('historical_prices.csv')"
   ]
  },
  {
   "cell_type": "code",
   "execution_count": 4,
   "id": "0b52877a",
   "metadata": {},
   "outputs": [
    {
     "data": {
      "text/plain": [
       "Index(['Date', ' Open', ' High', ' Low', ' Close'], dtype='object')"
      ]
     },
     "execution_count": 4,
     "metadata": {},
     "output_type": "execute_result"
    }
   ],
   "source": [
    "df_spx.columns"
   ]
  },
  {
   "cell_type": "code",
   "execution_count": 5,
   "id": "43e192ea",
   "metadata": {},
   "outputs": [],
   "source": [
    "df_spx.Date = pd.to_datetime(df_spx.Date)"
   ]
  },
  {
   "cell_type": "code",
   "execution_count": 6,
   "id": "4c6f0d48",
   "metadata": {},
   "outputs": [],
   "source": [
    "df_spx = df_spx.drop([' Open', ' High', ' Low'],axis=1)"
   ]
  },
  {
   "cell_type": "code",
   "execution_count": 7,
   "id": "ec124021",
   "metadata": {},
   "outputs": [],
   "source": [
    "df_spx.columns=['date', 'close']"
   ]
  },
  {
   "cell_type": "code",
   "execution_count": 8,
   "id": "48f2756f",
   "metadata": {},
   "outputs": [
    {
     "data": {
      "text/html": [
       "<div>\n",
       "<style scoped>\n",
       "    .dataframe tbody tr th:only-of-type {\n",
       "        vertical-align: middle;\n",
       "    }\n",
       "\n",
       "    .dataframe tbody tr th {\n",
       "        vertical-align: top;\n",
       "    }\n",
       "\n",
       "    .dataframe thead th {\n",
       "        text-align: right;\n",
       "    }\n",
       "</style>\n",
       "<table border=\"1\" class=\"dataframe\">\n",
       "  <thead>\n",
       "    <tr style=\"text-align: right;\">\n",
       "      <th></th>\n",
       "      <th>date</th>\n",
       "      <th>close</th>\n",
       "      <th>change</th>\n",
       "    </tr>\n",
       "  </thead>\n",
       "  <tbody>\n",
       "    <tr>\n",
       "      <th>0</th>\n",
       "      <td>2022-12-30</td>\n",
       "      <td>3839.50</td>\n",
       "      <td>0.0</td>\n",
       "    </tr>\n",
       "    <tr>\n",
       "      <th>1</th>\n",
       "      <td>2022-12-29</td>\n",
       "      <td>3849.28</td>\n",
       "      <td>1.0</td>\n",
       "    </tr>\n",
       "    <tr>\n",
       "      <th>2</th>\n",
       "      <td>2022-12-28</td>\n",
       "      <td>3783.22</td>\n",
       "      <td>0.0</td>\n",
       "    </tr>\n",
       "    <tr>\n",
       "      <th>3</th>\n",
       "      <td>2022-12-27</td>\n",
       "      <td>3829.25</td>\n",
       "      <td>0.0</td>\n",
       "    </tr>\n",
       "    <tr>\n",
       "      <th>4</th>\n",
       "      <td>2022-12-23</td>\n",
       "      <td>3844.82</td>\n",
       "      <td>1.0</td>\n",
       "    </tr>\n",
       "    <tr>\n",
       "      <th>...</th>\n",
       "      <td>...</td>\n",
       "      <td>...</td>\n",
       "      <td>...</td>\n",
       "    </tr>\n",
       "    <tr>\n",
       "      <th>6793</th>\n",
       "      <td>1996-01-08</td>\n",
       "      <td>618.46</td>\n",
       "      <td>1.0</td>\n",
       "    </tr>\n",
       "    <tr>\n",
       "      <th>6794</th>\n",
       "      <td>1996-01-05</td>\n",
       "      <td>616.71</td>\n",
       "      <td>0.0</td>\n",
       "    </tr>\n",
       "    <tr>\n",
       "      <th>6795</th>\n",
       "      <td>1996-01-04</td>\n",
       "      <td>617.70</td>\n",
       "      <td>0.0</td>\n",
       "    </tr>\n",
       "    <tr>\n",
       "      <th>6796</th>\n",
       "      <td>1996-01-03</td>\n",
       "      <td>621.32</td>\n",
       "      <td>1.0</td>\n",
       "    </tr>\n",
       "    <tr>\n",
       "      <th>6797</th>\n",
       "      <td>1996-01-02</td>\n",
       "      <td>620.73</td>\n",
       "      <td>0.0</td>\n",
       "    </tr>\n",
       "  </tbody>\n",
       "</table>\n",
       "<p>6798 rows × 3 columns</p>\n",
       "</div>"
      ],
      "text/plain": [
       "           date    close  change\n",
       "0    2022-12-30  3839.50     0.0\n",
       "1    2022-12-29  3849.28     1.0\n",
       "2    2022-12-28  3783.22     0.0\n",
       "3    2022-12-27  3829.25     0.0\n",
       "4    2022-12-23  3844.82     1.0\n",
       "...         ...      ...     ...\n",
       "6793 1996-01-08   618.46     1.0\n",
       "6794 1996-01-05   616.71     0.0\n",
       "6795 1996-01-04   617.70     0.0\n",
       "6796 1996-01-03   621.32     1.0\n",
       "6797 1996-01-02   620.73     0.0\n",
       "\n",
       "[6798 rows x 3 columns]"
      ]
     },
     "execution_count": 8,
     "metadata": {},
     "output_type": "execute_result"
    }
   ],
   "source": [
    "for index, frame in df_spx.iterrows():\n",
    "    if index == 6797:\n",
    "        df_spx.loc[index, 'change'] = 0\n",
    "    elif df_spx.loc[index, 'close'] > df_spx.loc[index+1, 'close']:\n",
    "        df_spx.loc[index, 'change'] = 1\n",
    "    elif df_spx.loc[index, 'close'] < df_spx.loc[index+1, 'close']:\n",
    "        df_spx.loc[index, 'change'] = 0\n",
    "df_spx"
   ]
  },
  {
   "cell_type": "code",
   "execution_count": 9,
   "id": "ff8b60a9",
   "metadata": {},
   "outputs": [],
   "source": [
    "df_spx=df_spx.sort_values(by='date', ascending=True)"
   ]
  },
  {
   "cell_type": "code",
   "execution_count": 10,
   "id": "f1cd17f9",
   "metadata": {},
   "outputs": [],
   "source": [
    "change = df_spx.close.pct_change()"
   ]
  },
  {
   "cell_type": "code",
   "execution_count": 11,
   "id": "29ea15a6",
   "metadata": {},
   "outputs": [
    {
     "data": {
      "text/plain": [
       "6797         NaN\n",
       "6796    0.000950\n",
       "6795   -0.005826\n",
       "6794   -0.001603\n",
       "6793    0.002838\n",
       "          ...   \n",
       "4       0.005868\n",
       "3      -0.004050\n",
       "2      -0.012021\n",
       "1       0.017461\n",
       "0      -0.002541\n",
       "Name: close, Length: 6798, dtype: float64"
      ]
     },
     "execution_count": 11,
     "metadata": {},
     "output_type": "execute_result"
    }
   ],
   "source": [
    "change"
   ]
  },
  {
   "cell_type": "code",
   "execution_count": 13,
   "id": "8f646510",
   "metadata": {},
   "outputs": [
    {
     "data": {
      "text/plain": [
       "<seaborn.axisgrid.FacetGrid at 0x2ab473a8700>"
      ]
     },
     "execution_count": 13,
     "metadata": {},
     "output_type": "execute_result"
    }
   ],
   "source": [
    "sns.displot(data=change)"
   ]
  },
  {
   "cell_type": "code",
   "execution_count": 14,
   "id": "8a9880e5",
   "metadata": {},
   "outputs": [],
   "source": [
    "df_speeches['date'] = pd.to_datetime(df_speeches['date'])"
   ]
  },
  {
   "cell_type": "code",
   "execution_count": 15,
   "id": "ea3174cc",
   "metadata": {},
   "outputs": [],
   "source": [
    "df_speeches.sort_values(by='date', ascending=False, inplace=True)"
   ]
  },
  {
   "cell_type": "code",
   "execution_count": 16,
   "id": "52fd6c60",
   "metadata": {},
   "outputs": [],
   "source": [
    "df_speeches.reset_index(drop=True, inplace=True)"
   ]
  },
  {
   "cell_type": "code",
   "execution_count": 17,
   "id": "88e02256",
   "metadata": {},
   "outputs": [
    {
     "data": {
      "text/html": [
       "<div>\n",
       "<style scoped>\n",
       "    .dataframe tbody tr th:only-of-type {\n",
       "        vertical-align: middle;\n",
       "    }\n",
       "\n",
       "    .dataframe tbody tr th {\n",
       "        vertical-align: top;\n",
       "    }\n",
       "\n",
       "    .dataframe thead th {\n",
       "        text-align: right;\n",
       "    }\n",
       "</style>\n",
       "<table border=\"1\" class=\"dataframe\">\n",
       "  <thead>\n",
       "    <tr style=\"text-align: right;\">\n",
       "      <th></th>\n",
       "      <th>link</th>\n",
       "      <th>title</th>\n",
       "      <th>speaker</th>\n",
       "      <th>event</th>\n",
       "      <th>year</th>\n",
       "      <th>text</th>\n",
       "      <th>text_len</th>\n",
       "      <th>date</th>\n",
       "      <th>speaker_title</th>\n",
       "    </tr>\n",
       "  </thead>\n",
       "  <tbody>\n",
       "    <tr>\n",
       "      <th>0</th>\n",
       "      <td>https://www.federalreserve.gov/newsevents/spee...</td>\n",
       "      <td>Why Bank Capital Matters</td>\n",
       "      <td>Vice Chairman for Supervision Michael S. Barr</td>\n",
       "      <td>At the American Enterprise Institute, Washingt...</td>\n",
       "      <td>2022</td>\n",
       "      <td>In my first speech as Vice Chair for Supervis...</td>\n",
       "      <td>36135</td>\n",
       "      <td>2022-12-01</td>\n",
       "      <td>Vice Chairman</td>\n",
       "    </tr>\n",
       "    <tr>\n",
       "      <th>1</th>\n",
       "      <td>https://www.federalreserve.gov/newsevents/spee...</td>\n",
       "      <td>The Economic Outlook and U.S. Productivity</td>\n",
       "      <td>Governor Lisa D. Cook</td>\n",
       "      <td>At the Detroit Economic Club, Detroit, Michigan</td>\n",
       "      <td>2022</td>\n",
       "      <td>Good morning. It is a pleasure to be back in ...</td>\n",
       "      <td>18912</td>\n",
       "      <td>2022-11-30</td>\n",
       "      <td>Governor</td>\n",
       "    </tr>\n",
       "    <tr>\n",
       "      <th>2</th>\n",
       "      <td>https://www.federalreserve.gov/newsevents/spee...</td>\n",
       "      <td>Inflation and the Labor Market</td>\n",
       "      <td>Chairman Jerome H. Powell</td>\n",
       "      <td>At the Hutchins Center on Fiscal and Monetary ...</td>\n",
       "      <td>2022</td>\n",
       "      <td>Today I will offer a progress report on the F...</td>\n",
       "      <td>20284</td>\n",
       "      <td>2022-11-30</td>\n",
       "      <td>Chairman</td>\n",
       "    </tr>\n",
       "    <tr>\n",
       "      <th>3</th>\n",
       "      <td>https://www.federalreserve.gov/newsevents/spee...</td>\n",
       "      <td>What Can We Learn from the Pandemic and the Wa...</td>\n",
       "      <td>Vice Chairman Lael Brainard</td>\n",
       "      <td>At the 21st BIS Annual Conference Central Bank...</td>\n",
       "      <td>2022</td>\n",
       "      <td>Policymakers and researchers have begun reass...</td>\n",
       "      <td>16286</td>\n",
       "      <td>2022-11-28</td>\n",
       "      <td>Vice Chairman</td>\n",
       "    </tr>\n",
       "    <tr>\n",
       "      <th>4</th>\n",
       "      <td>https://www.federalreserve.gov/newsevents/spee...</td>\n",
       "      <td>Opportunity and Inclusive Economic Growth</td>\n",
       "      <td>Governor Philip N. Jefferson</td>\n",
       "      <td>At the 2022 Institute Research Conference, hos...</td>\n",
       "      <td>2022</td>\n",
       "      <td>Good morning, and thank you. It is a pleasure...</td>\n",
       "      <td>8106</td>\n",
       "      <td>2022-11-17</td>\n",
       "      <td>Governor</td>\n",
       "    </tr>\n",
       "    <tr>\n",
       "      <th>...</th>\n",
       "      <td>...</td>\n",
       "      <td>...</td>\n",
       "      <td>...</td>\n",
       "      <td>...</td>\n",
       "      <td>...</td>\n",
       "      <td>...</td>\n",
       "      <td>...</td>\n",
       "      <td>...</td>\n",
       "      <td>...</td>\n",
       "    </tr>\n",
       "    <tr>\n",
       "      <th>1588</th>\n",
       "      <td>https://www.federalreserve.gov/boarddocs/speec...</td>\n",
       "      <td>Regulation and electronic payment systems</td>\n",
       "      <td>Chairman Alan Greenspan</td>\n",
       "      <td>At the U.S. Treasury Conference on Electronic ...</td>\n",
       "      <td>1996</td>\n",
       "      <td>Remarks by Chairman Alan Greenspan Regulation ...</td>\n",
       "      <td>12632</td>\n",
       "      <td>1996-09-19</td>\n",
       "      <td>Chairman</td>\n",
       "    </tr>\n",
       "    <tr>\n",
       "      <th>1589</th>\n",
       "      <td>https://www.federalreserve.gov/boarddocs/speec...</td>\n",
       "      <td>Monetary policy objectives and strategy</td>\n",
       "      <td>Governor Laurence H. Meyer</td>\n",
       "      <td>At the National Association of Business Econom...</td>\n",
       "      <td>1996</td>\n",
       "      <td>Monetary Policy Objectives and Strategy  I wan...</td>\n",
       "      <td>16486</td>\n",
       "      <td>1996-09-08</td>\n",
       "      <td>Governor</td>\n",
       "    </tr>\n",
       "    <tr>\n",
       "      <th>1590</th>\n",
       "      <td>https://www.federalreserve.gov/boarddocs/speec...</td>\n",
       "      <td>Developments in electronic money and banking</td>\n",
       "      <td>Governor Edward W. Kelley, Jr.</td>\n",
       "      <td>At the CyberPayments '96 Conference, Dallas, T...</td>\n",
       "      <td>1996</td>\n",
       "      <td>Remarks by Governor Edward W. Kelley, Jr. Deve...</td>\n",
       "      <td>18740</td>\n",
       "      <td>1996-06-18</td>\n",
       "      <td>Governor</td>\n",
       "    </tr>\n",
       "    <tr>\n",
       "      <th>1591</th>\n",
       "      <td>https://www.federalreserve.gov/boarddocs/speec...</td>\n",
       "      <td>Bank supervision in a world economy</td>\n",
       "      <td>Chairman Alan Greenspan</td>\n",
       "      <td>At the International Conference of Banking Sup...</td>\n",
       "      <td>1996</td>\n",
       "      <td>Remarks by Chairman Alan Greenspan Bank superv...</td>\n",
       "      <td>22959</td>\n",
       "      <td>1996-06-13</td>\n",
       "      <td>Chairman</td>\n",
       "    </tr>\n",
       "    <tr>\n",
       "      <th>1592</th>\n",
       "      <td>https://www.federalreserve.gov/newsevents/spee...</td>\n",
       "      <td>Risk Management and the Economic Outlook</td>\n",
       "      <td>Governor Randall S. Kroszner</td>\n",
       "      <td>At the Conference on Competitive Markets and E...</td>\n",
       "      <td>2007</td>\n",
       "      <td>The disruption in financial markets over the ...</td>\n",
       "      <td>19732</td>\n",
       "      <td>NaT</td>\n",
       "      <td>Governor</td>\n",
       "    </tr>\n",
       "  </tbody>\n",
       "</table>\n",
       "<p>1593 rows × 9 columns</p>\n",
       "</div>"
      ],
      "text/plain": [
       "                                                   link  \\\n",
       "0     https://www.federalreserve.gov/newsevents/spee...   \n",
       "1     https://www.federalreserve.gov/newsevents/spee...   \n",
       "2     https://www.federalreserve.gov/newsevents/spee...   \n",
       "3     https://www.federalreserve.gov/newsevents/spee...   \n",
       "4     https://www.federalreserve.gov/newsevents/spee...   \n",
       "...                                                 ...   \n",
       "1588  https://www.federalreserve.gov/boarddocs/speec...   \n",
       "1589  https://www.federalreserve.gov/boarddocs/speec...   \n",
       "1590  https://www.federalreserve.gov/boarddocs/speec...   \n",
       "1591  https://www.federalreserve.gov/boarddocs/speec...   \n",
       "1592  https://www.federalreserve.gov/newsevents/spee...   \n",
       "\n",
       "                                                  title  \\\n",
       "0                              Why Bank Capital Matters   \n",
       "1            The Economic Outlook and U.S. Productivity   \n",
       "2                        Inflation and the Labor Market   \n",
       "3     What Can We Learn from the Pandemic and the Wa...   \n",
       "4             Opportunity and Inclusive Economic Growth   \n",
       "...                                                 ...   \n",
       "1588          Regulation and electronic payment systems   \n",
       "1589            Monetary policy objectives and strategy   \n",
       "1590       Developments in electronic money and banking   \n",
       "1591                Bank supervision in a world economy   \n",
       "1592           Risk Management and the Economic Outlook   \n",
       "\n",
       "                                            speaker  \\\n",
       "0     Vice Chairman for Supervision Michael S. Barr   \n",
       "1                             Governor Lisa D. Cook   \n",
       "2                         Chairman Jerome H. Powell   \n",
       "3                       Vice Chairman Lael Brainard   \n",
       "4                      Governor Philip N. Jefferson   \n",
       "...                                             ...   \n",
       "1588                        Chairman Alan Greenspan   \n",
       "1589                     Governor Laurence H. Meyer   \n",
       "1590                 Governor Edward W. Kelley, Jr.   \n",
       "1591                        Chairman Alan Greenspan   \n",
       "1592                   Governor Randall S. Kroszner   \n",
       "\n",
       "                                                  event  year  \\\n",
       "0     At the American Enterprise Institute, Washingt...  2022   \n",
       "1       At the Detroit Economic Club, Detroit, Michigan  2022   \n",
       "2     At the Hutchins Center on Fiscal and Monetary ...  2022   \n",
       "3     At the 21st BIS Annual Conference Central Bank...  2022   \n",
       "4     At the 2022 Institute Research Conference, hos...  2022   \n",
       "...                                                 ...   ...   \n",
       "1588  At the U.S. Treasury Conference on Electronic ...  1996   \n",
       "1589  At the National Association of Business Econom...  1996   \n",
       "1590  At the CyberPayments '96 Conference, Dallas, T...  1996   \n",
       "1591  At the International Conference of Banking Sup...  1996   \n",
       "1592  At the Conference on Competitive Markets and E...  2007   \n",
       "\n",
       "                                                   text  text_len       date  \\\n",
       "0      In my first speech as Vice Chair for Supervis...     36135 2022-12-01   \n",
       "1      Good morning. It is a pleasure to be back in ...     18912 2022-11-30   \n",
       "2      Today I will offer a progress report on the F...     20284 2022-11-30   \n",
       "3      Policymakers and researchers have begun reass...     16286 2022-11-28   \n",
       "4      Good morning, and thank you. It is a pleasure...      8106 2022-11-17   \n",
       "...                                                 ...       ...        ...   \n",
       "1588  Remarks by Chairman Alan Greenspan Regulation ...     12632 1996-09-19   \n",
       "1589  Monetary Policy Objectives and Strategy  I wan...     16486 1996-09-08   \n",
       "1590  Remarks by Governor Edward W. Kelley, Jr. Deve...     18740 1996-06-18   \n",
       "1591  Remarks by Chairman Alan Greenspan Bank superv...     22959 1996-06-13   \n",
       "1592   The disruption in financial markets over the ...     19732        NaT   \n",
       "\n",
       "      speaker_title  \n",
       "0     Vice Chairman  \n",
       "1          Governor  \n",
       "2          Chairman  \n",
       "3     Vice Chairman  \n",
       "4          Governor  \n",
       "...             ...  \n",
       "1588       Chairman  \n",
       "1589       Governor  \n",
       "1590       Governor  \n",
       "1591       Chairman  \n",
       "1592       Governor  \n",
       "\n",
       "[1593 rows x 9 columns]"
      ]
     },
     "execution_count": 17,
     "metadata": {},
     "output_type": "execute_result"
    }
   ],
   "source": [
    "df_speeches"
   ]
  },
  {
   "cell_type": "code",
   "execution_count": 18,
   "id": "13671737",
   "metadata": {},
   "outputs": [],
   "source": [
    "merged_df = df_speeches.merge(df_spx, on='date')"
   ]
  },
  {
   "cell_type": "code",
   "execution_count": 20,
   "id": "7d6174b1",
   "metadata": {},
   "outputs": [],
   "source": [
    "df = merged_df[['text', 'date', 'speaker_title', 'change']]"
   ]
  },
  {
   "cell_type": "code",
   "execution_count": 27,
   "id": "02dfc4d2",
   "metadata": {},
   "outputs": [
    {
     "data": {
      "text/plain": [
       "75674"
      ]
     },
     "execution_count": 27,
     "metadata": {},
     "output_type": "execute_result"
    }
   ],
   "source": [
    "df_speeches.text_len.max()"
   ]
  },
  {
   "cell_type": "code",
   "execution_count": 21,
   "id": "7a180e5c",
   "metadata": {},
   "outputs": [],
   "source": [
    "df.to_csv(\"speeches_spx_combined.csv\")"
   ]
  }
 ],
 "metadata": {
  "kernelspec": {
   "display_name": "Python 3 (ipykernel)",
   "language": "python",
   "name": "python3"
  },
  "language_info": {
   "codemirror_mode": {
    "name": "ipython",
    "version": 3
   },
   "file_extension": ".py",
   "mimetype": "text/x-python",
   "name": "python",
   "nbconvert_exporter": "python",
   "pygments_lexer": "ipython3",
   "version": "3.9.13"
  }
 },
 "nbformat": 4,
 "nbformat_minor": 5
}
